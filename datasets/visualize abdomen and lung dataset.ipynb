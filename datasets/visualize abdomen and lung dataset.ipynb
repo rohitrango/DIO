{
 "cells": [
  {
   "cell_type": "code",
   "execution_count": 1,
   "id": "7aceccbc-b31a-45c1-b187-f8139d283639",
   "metadata": {},
   "outputs": [],
   "source": [
    "%load_ext autoreload\n",
    "%autoreload 2\n",
    "import numpy as np\n",
    "from abdomen import AbdomenMRCT\n",
    "from lungct import LungCT\n",
    "\n",
    "import matplotlib.pyplot as plt\n",
    "from ipywidgets import interact, interactive, fixed, interact_manual\n",
    "import ipywidgets as widgets\n",
    "import numpy as np"
   ]
  },
  {
   "cell_type": "code",
   "execution_count": 2,
   "id": "31f437f4-0f78-4fa2-9696-3a3e30c8d27f",
   "metadata": {},
   "outputs": [],
   "source": [
    "dataset = AbdomenMRCT(\"/mnt/rohit_data2/Abdomen-L2R/\")\n",
    "# dataset = LungCT(\"/mnt/rohit_data2/LungCT_L2R\")"
   ]
  },
  {
   "cell_type": "code",
   "execution_count": 3,
   "id": "1fa52af4-e6f8-4e13-90ca-267618919840",
   "metadata": {},
   "outputs": [
    {
     "data": {
      "text/plain": [
       "4472"
      ]
     },
     "execution_count": 3,
     "metadata": {},
     "output_type": "execute_result"
    }
   ],
   "source": [
    "len(dataset)"
   ]
  },
  {
   "cell_type": "code",
   "execution_count": 4,
   "id": "84f304d3-8fe8-4d51-b552-ccf5e18a2531",
   "metadata": {},
   "outputs": [
    {
     "name": "stdout",
     "output_type": "stream",
     "text": [
      "torch.Size([1, 12, 192, 160, 192]) tensor(0.0003, device='cuda:0') tensor(1., device='cuda:0')\n"
     ]
    }
   ],
   "source": [
    "ret = dataset[0]\n",
    "# print(ret['source_img_path'], ret['target_img_path'])"
   ]
  },
  {
   "cell_type": "code",
   "execution_count": 5,
   "id": "1de29194-5e18-41b1-9cbe-2cf485cb66eb",
   "metadata": {},
   "outputs": [],
   "source": [
    "# ret['source_kps'].min(), ret['source_kps'].max()"
   ]
  },
  {
   "cell_type": "code",
   "execution_count": 7,
   "id": "9d3256a1-8ea4-4bd5-ae01-361eee104c5d",
   "metadata": {},
   "outputs": [],
   "source": [
    "# fixed_img = ret['source_img'].squeeze().numpy()\n",
    "# moving_img = ret['target_img'].squeeze().numpy()\n",
    "# fixed_label = ret['source_label'].squeeze().numpy()\n",
    "# moving_label = ret['target_label'].squeeze().numpy()\n",
    "\n",
    "# def plot_slices(slice_idx):\n",
    "#     # Create a figure with 2 rows and 3 columns\n",
    "#     fig, axes = plt.subplots(2, 3, figsize=(15, 10))\n",
    "    \n",
    "#     # Plot fixed image and label\n",
    "#     axes[0,0].imshow(fixed_img[slice_idx,:,:], cmap='gray')\n",
    "#     axes[0,0].set_title('Fixed Image')\n",
    "#     axes[0,0].axis('off')\n",
    "    \n",
    "#     axes[0,1].imshow(fixed_label[slice_idx,:,:], cmap='tab20')\n",
    "#     axes[0,1].set_title('Fixed Label')\n",
    "#     axes[0,1].axis('off')\n",
    "    \n",
    "#     # Overlay fixed image and label\n",
    "#     axes[0,2].imshow(fixed_img[slice_idx,:,:], cmap='gray')\n",
    "#     axes[0,2].imshow(fixed_label[slice_idx,:,:], alpha=0.3, cmap='tab20')\n",
    "#     axes[0,2].set_title('Fixed Overlay')\n",
    "#     axes[0,2].axis('off')\n",
    "    \n",
    "#     # Plot moving image and label\n",
    "#     axes[1,0].imshow(moving_img[slice_idx,:,:], cmap='gray')\n",
    "#     axes[1,0].set_title('Moving Image')\n",
    "#     axes[1,0].axis('off')\n",
    "    \n",
    "#     axes[1,1].imshow(moving_label[slice_idx,:,:], cmap='tab20')\n",
    "#     axes[1,1].set_title('Moving Label')\n",
    "#     axes[1,1].axis('off')\n",
    "    \n",
    "#     # Overlay moving image and label\n",
    "#     axes[1,2].imshow(moving_img[slice_idx,:,:], cmap='gray')\n",
    "#     axes[1,2].imshow(moving_label[slice_idx,:,:], alpha=0.3, cmap='tab20')\n",
    "#     axes[1,2].set_title('Moving Overlay')\n",
    "#     axes[1,2].axis('off')\n",
    "    \n",
    "#     plt.tight_layout()\n",
    "#     plt.show()\n",
    "\n",
    "# # Create interactive slider\n",
    "# interact(\n",
    "#     plot_slices, \n",
    "#     slice_idx=widgets.IntSlider(\n",
    "#         min=0,\n",
    "#         max=fixed_img.shape[0]-1,\n",
    "#         step=1,\n",
    "#         value=fixed_img.shape[0]//2,\n",
    "#         description='Slice:',\n",
    "#         continuous_update=False\n",
    "#     )\n",
    "# )"
   ]
  },
  {
   "cell_type": "code",
   "execution_count": 8,
   "id": "6c70dfb1-28c2-4968-bbc5-f06b63662514",
   "metadata": {},
   "outputs": [
    {
     "data": {
      "application/vnd.jupyter.widget-view+json": {
       "model_id": "655e102a09c347039fb2976172162480",
       "version_major": 2,
       "version_minor": 0
      },
      "text/plain": [
       "interactive(children=(IntSlider(value=96, continuous_update=False, description='Axial:', max=191), IntSlider(v…"
      ]
     },
     "metadata": {},
     "output_type": "display_data"
    },
    {
     "data": {
      "text/plain": [
       "<function __main__.plot_orthogonal_views(axial_idx, sagittal_idx, coronal_idx)>"
      ]
     },
     "execution_count": 8,
     "metadata": {},
     "output_type": "execute_result"
    }
   ],
   "source": [
    "fixed_img = ret['source_img'].squeeze().numpy()\n",
    "moving_img = ret['target_img'].squeeze().numpy()\n",
    "\n",
    "def plot_orthogonal_views(axial_idx, sagittal_idx, coronal_idx):\n",
    "    fig, axes = plt.subplots(2, 3, figsize=(15, 8))\n",
    "    \n",
    "    # Fixed image views\n",
    "    axes[0,0].imshow(fixed_img[axial_idx,:,:], cmap='gray')\n",
    "    axes[0,0].set_title('Fixed - Axial')\n",
    "    axes[0,0].axis('off')\n",
    "    \n",
    "    axes[0,1].imshow(fixed_img[:,sagittal_idx,:], cmap='gray')\n",
    "    axes[0,1].set_title('Fixed - Sagittal')\n",
    "    axes[0,1].axis('off')\n",
    "    \n",
    "    axes[0,2].imshow(fixed_img[:,:,coronal_idx], cmap='gray')\n",
    "    axes[0,2].set_title('Fixed - Coronal')\n",
    "    axes[0,2].axis('off')\n",
    "    \n",
    "    # Moving image views\n",
    "    axes[1,0].imshow(moving_img[axial_idx,:,:], cmap='gray')\n",
    "    axes[1,0].set_title('Moving - Axial')\n",
    "    axes[1,0].axis('off')\n",
    "    \n",
    "    axes[1,1].imshow(moving_img[:,sagittal_idx,:], cmap='gray')\n",
    "    axes[1,1].set_title('Moving - Sagittal')\n",
    "    axes[1,1].axis('off')\n",
    "    \n",
    "    axes[1,2].imshow(moving_img[:,:,coronal_idx], cmap='gray')\n",
    "    axes[1,2].set_title('Moving - Coronal')\n",
    "    axes[1,2].axis('off')\n",
    "    \n",
    "    plt.tight_layout()\n",
    "    plt.show()\n",
    "\n",
    "# Create interactive sliders\n",
    "interact(\n",
    "    plot_orthogonal_views,\n",
    "    axial_idx=widgets.IntSlider(\n",
    "        min=0,\n",
    "        max=fixed_img.shape[0]-1,\n",
    "        step=1,\n",
    "        value=fixed_img.shape[0]//2,\n",
    "        description='Axial:',\n",
    "        continuous_update=False\n",
    "    ),\n",
    "    sagittal_idx=widgets.IntSlider(\n",
    "        min=0,\n",
    "        max=fixed_img.shape[1]-1,\n",
    "        step=1,\n",
    "        value=fixed_img.shape[1]//2,\n",
    "        description='Sagittal:',\n",
    "        continuous_update=False\n",
    "    ),\n",
    "    coronal_idx=widgets.IntSlider(\n",
    "        min=0,\n",
    "        max=fixed_img.shape[2]-1,\n",
    "        step=1,\n",
    "        value=fixed_img.shape[2]//2,\n",
    "        description='Coronal:',\n",
    "        continuous_update=False\n",
    "    )\n",
    ")"
   ]
  },
  {
   "cell_type": "code",
   "execution_count": 30,
   "id": "40a27f6c-f1fe-40f5-b661-a99b232511e6",
   "metadata": {},
   "outputs": [
    {
     "name": "stdout",
     "output_type": "stream",
     "text": [
      "[20.999998 13.       63.      ] [164. 168. 152.] 192 192 208\n"
     ]
    },
    {
     "data": {
      "application/vnd.jupyter.widget-view+json": {
       "model_id": "48571a96f87a4733a938e9689f46dfba",
       "version_major": 2,
       "version_minor": 0
      },
      "text/plain": [
       "interactive(children=(IntSlider(value=104, continuous_update=False, description='Axial:', max=207), IntSlider(…"
      ]
     },
     "metadata": {},
     "output_type": "display_data"
    },
    {
     "data": {
      "text/plain": [
       "<function __main__.plot_orthogonal_views(axial_idx, sagittal_idx, coronal_idx)>"
      ]
     },
     "execution_count": 30,
     "metadata": {},
     "output_type": "execute_result"
    }
   ],
   "source": [
    "fixed_img = ret['source_img'].squeeze().numpy()\n",
    "moving_img = ret['target_img'].squeeze().numpy()\n",
    "\n",
    "Z, Y, X = fixed_img.shape\n",
    "\n",
    "fixed_kps = torch2numpy(ret['source_kps'].squeeze().numpy() + 0, X, Y, Z)\n",
    "moving_kps = torch2numpy(ret['target_kps'].squeeze().numpy() + 0, X, Y, Z)\n",
    "\n",
    "print(fixed_kps.min(0), fixed_kps.max(0), X, Y, Z)\n",
    "\n",
    "def torch2numpy(kps, X, Y, Z):\n",
    "    kps[:, 0] = (kps[:, 0] + 1)*X/2 - 1/2\n",
    "    kps[:, 1] = (kps[:, 1] + 1)*Y/2 - 1/2\n",
    "    kps[:, 2] = (kps[:, 2] + 1)*Z/2 - 1/2\n",
    "    return kps\n",
    "\n",
    "def plot_orthogonal_views(axial_idx, sagittal_idx, coronal_idx):\n",
    "    fig, axes = plt.subplots(2, 3, figsize=(15, 8))\n",
    "    \n",
    "    # Fixed image views\n",
    "    axes[0,0].imshow(fixed_img[axial_idx,:,:], cmap='gray')\n",
    "    axes[0,0].set_title('Fixed - Axial')\n",
    "    axes[0,0].axis('off')\n",
    "\n",
    "    axes[0,0].scatter(fixed_kps[:, 0], fixed_kps[:, 1])\n",
    "    \n",
    "    axes[0,1].imshow(fixed_img[:,sagittal_idx,:], cmap='gray')\n",
    "    axes[0,1].set_title('Fixed - Sagittal')\n",
    "    axes[0,1].axis('off')\n",
    "\n",
    "    axes[0,1].scatter(fixed_kps[:, 0], fixed_kps[:, 2])\n",
    "    \n",
    "    axes[0,2].imshow(fixed_img[:,:,coronal_idx], cmap='gray')\n",
    "    axes[0,2].set_title('Fixed - Coronal')\n",
    "    axes[0,2].axis('off')\n",
    "\n",
    "    axes[0,2].scatter(fixed_kps[:, 1], fixed_kps[:, 2])\n",
    "    \n",
    "    # Moving image views\n",
    "    axes[1,0].imshow(moving_img[axial_idx,:,:], cmap='gray')\n",
    "    axes[1,0].set_title('Moving - Axial')\n",
    "    axes[1,0].axis('off')\n",
    "    axes[1,0].scatter(moving_kps[:, 0], moving_kps[:, 1])\n",
    "    \n",
    "    axes[1,1].imshow(moving_img[:,sagittal_idx,:], cmap='gray')\n",
    "    axes[1,1].set_title('Moving - Sagittal')\n",
    "    axes[1,1].axis('off')\n",
    "    axes[1,1].scatter(moving_kps[:, 0], moving_kps[:, 2])\n",
    "\n",
    "    \n",
    "    axes[1,2].imshow(moving_img[:,:,coronal_idx], cmap='gray')\n",
    "    axes[1,2].set_title('Moving - Coronal')\n",
    "    axes[1,2].axis('off')\n",
    "    axes[1,2].scatter(moving_kps[:, 1], moving_kps[:, 2])\n",
    "\n",
    "    \n",
    "    plt.tight_layout()\n",
    "    plt.show()\n",
    "\n",
    "# Create interactive sliders\n",
    "interact(\n",
    "    plot_orthogonal_views,\n",
    "    axial_idx=widgets.IntSlider(\n",
    "        min=0,\n",
    "        max=fixed_img.shape[0]-1,\n",
    "        step=1,\n",
    "        value=fixed_img.shape[0]//2,\n",
    "        description='Axial:',\n",
    "        continuous_update=False\n",
    "    ),\n",
    "    sagittal_idx=widgets.IntSlider(\n",
    "        min=0,\n",
    "        max=fixed_img.shape[1]-1,\n",
    "        step=1,\n",
    "        value=fixed_img.shape[1]//2,\n",
    "        description='Sagittal:',\n",
    "        continuous_update=False\n",
    "    ),\n",
    "    coronal_idx=widgets.IntSlider(\n",
    "        min=0,\n",
    "        max=fixed_img.shape[2]-1,\n",
    "        step=1,\n",
    "        value=fixed_img.shape[2]//2,\n",
    "        description='Coronal:',\n",
    "        continuous_update=False\n",
    "    )\n",
    ")"
   ]
  },
  {
   "cell_type": "code",
   "execution_count": 20,
   "id": "786af61e-4ae6-47fa-b53b-b37304a2bb31",
   "metadata": {},
   "outputs": [
    {
     "data": {
      "text/plain": [
       "array([[1.8690090e+09, 7.8144353e+09, 1.0529294e+10],\n",
       "       [1.8690090e+09, 8.1541740e+09, 7.4876621e+09],\n",
       "       [1.9539441e+09, 9.0035200e+09, 8.6575206e+09],\n",
       "       ...,\n",
       "       [1.3759861e+10, 8.5788472e+09, 7.4876621e+09],\n",
       "       [1.3759861e+10, 1.0277540e+10, 7.4876621e+09],\n",
       "       [1.4014665e+10, 6.7952195e+09, 7.7216338e+09]], dtype=float32)"
      ]
     },
     "execution_count": 20,
     "metadata": {},
     "output_type": "execute_result"
    }
   ],
   "source": [
    "ret['source_kps'].squeeze().numpy()"
   ]
  },
  {
   "cell_type": "code",
   "execution_count": null,
   "id": "9dd2c79f-295e-43db-86b8-f6b69c4c3d12",
   "metadata": {},
   "outputs": [],
   "source": []
  }
 ],
 "metadata": {
  "kernelspec": {
   "display_name": "Python 3 (ipykernel)",
   "language": "python",
   "name": "python3"
  },
  "language_info": {
   "codemirror_mode": {
    "name": "ipython",
    "version": 3
   },
   "file_extension": ".py",
   "mimetype": "text/x-python",
   "name": "python",
   "nbconvert_exporter": "python",
   "pygments_lexer": "ipython3",
   "version": "3.8.18"
  }
 },
 "nbformat": 4,
 "nbformat_minor": 5
}
