{
 "cells": [
  {
   "cell_type": "code",
   "execution_count": 1,
   "id": "7aceccbc-b31a-45c1-b187-f8139d283639",
   "metadata": {},
   "outputs": [],
   "source": [
    "%load_ext autoreload\n",
    "%autoreload 2\n",
    "import numpy as np\n",
    "from abdomen import AbdomenMRCT\n",
    "\n",
    "import matplotlib.pyplot as plt\n",
    "from ipywidgets import interact, interactive, fixed, interact_manual\n",
    "import ipywidgets as widgets\n",
    "import numpy as np"
   ]
  },
  {
   "cell_type": "code",
   "execution_count": 2,
   "id": "31f437f4-0f78-4fa2-9696-3a3e30c8d27f",
   "metadata": {},
   "outputs": [],
   "source": [
    "dataset = AbdomenMRCT(\"/mnt/rohit_data2/Abdomen-L2R/\")"
   ]
  },
  {
   "cell_type": "code",
   "execution_count": 3,
   "id": "1fa52af4-e6f8-4e13-90ca-267618919840",
   "metadata": {},
   "outputs": [
    {
     "data": {
      "text/plain": [
       "7140"
      ]
     },
     "execution_count": 3,
     "metadata": {},
     "output_type": "execute_result"
    }
   ],
   "source": [
    "len(dataset)"
   ]
  },
  {
   "cell_type": "code",
   "execution_count": 4,
   "id": "84f304d3-8fe8-4d51-b552-ccf5e18a2531",
   "metadata": {},
   "outputs": [
    {
     "name": "stdout",
     "output_type": "stream",
     "text": [
      "/mnt/rohit_data2/Abdomen-L2R/imagesTr/AbdomenMRCT_0001_0000.nii.gz /mnt/rohit_data2/Abdomen-L2R/imagesTr/AbdomenMRCT_1006_0001.nii.gz\n"
     ]
    }
   ],
   "source": [
    "ret = dataset[50]\n",
    "print(ret['source_img_path'], ret['target_img_path'])"
   ]
  },
  {
   "cell_type": "code",
   "execution_count": 5,
   "id": "9d3256a1-8ea4-4bd5-ae01-361eee104c5d",
   "metadata": {},
   "outputs": [
    {
     "data": {
      "application/vnd.jupyter.widget-view+json": {
       "model_id": "f000a1812b2341cda5297e4e2a47aba0",
       "version_major": 2,
       "version_minor": 0
      },
      "text/plain": [
       "interactive(children=(IntSlider(value=96, continuous_update=False, description='Slice:', max=191), Output()), …"
      ]
     },
     "metadata": {},
     "output_type": "display_data"
    },
    {
     "data": {
      "text/plain": [
       "<function __main__.plot_slices(slice_idx)>"
      ]
     },
     "execution_count": 5,
     "metadata": {},
     "output_type": "execute_result"
    }
   ],
   "source": [
    "fixed_img = ret['source_img'].squeeze().numpy()\n",
    "moving_img = ret['target_img'].squeeze().numpy()\n",
    "fixed_label = ret['source_label'].squeeze().numpy()\n",
    "moving_label = ret['target_label'].squeeze().numpy()\n",
    "\n",
    "def plot_slices(slice_idx):\n",
    "    # Create a figure with 2 rows and 3 columns\n",
    "    fig, axes = plt.subplots(2, 3, figsize=(15, 10))\n",
    "    \n",
    "    # Plot fixed image and label\n",
    "    axes[0,0].imshow(fixed_img[slice_idx,:,:], cmap='gray')\n",
    "    axes[0,0].set_title('Fixed Image')\n",
    "    axes[0,0].axis('off')\n",
    "    \n",
    "    axes[0,1].imshow(fixed_label[slice_idx,:,:], cmap='tab20')\n",
    "    axes[0,1].set_title('Fixed Label')\n",
    "    axes[0,1].axis('off')\n",
    "    \n",
    "    # Overlay fixed image and label\n",
    "    axes[0,2].imshow(fixed_img[slice_idx,:,:], cmap='gray')\n",
    "    axes[0,2].imshow(fixed_label[slice_idx,:,:], alpha=0.3, cmap='tab20')\n",
    "    axes[0,2].set_title('Fixed Overlay')\n",
    "    axes[0,2].axis('off')\n",
    "    \n",
    "    # Plot moving image and label\n",
    "    axes[1,0].imshow(moving_img[slice_idx,:,:], cmap='gray')\n",
    "    axes[1,0].set_title('Moving Image')\n",
    "    axes[1,0].axis('off')\n",
    "    \n",
    "    axes[1,1].imshow(moving_label[slice_idx,:,:], cmap='tab20')\n",
    "    axes[1,1].set_title('Moving Label')\n",
    "    axes[1,1].axis('off')\n",
    "    \n",
    "    # Overlay moving image and label\n",
    "    axes[1,2].imshow(moving_img[slice_idx,:,:], cmap='gray')\n",
    "    axes[1,2].imshow(moving_label[slice_idx,:,:], alpha=0.3, cmap='tab20')\n",
    "    axes[1,2].set_title('Moving Overlay')\n",
    "    axes[1,2].axis('off')\n",
    "    \n",
    "    plt.tight_layout()\n",
    "    plt.show()\n",
    "\n",
    "# Create interactive slider\n",
    "interact(\n",
    "    plot_slices, \n",
    "    slice_idx=widgets.IntSlider(\n",
    "        min=0,\n",
    "        max=fixed_img.shape[0]-1,\n",
    "        step=1,\n",
    "        value=fixed_img.shape[0]//2,\n",
    "        description='Slice:',\n",
    "        continuous_update=False\n",
    "    )\n",
    ")"
   ]
  },
  {
   "cell_type": "code",
   "execution_count": 6,
   "id": "6c70dfb1-28c2-4968-bbc5-f06b63662514",
   "metadata": {},
   "outputs": [
    {
     "data": {
      "application/vnd.jupyter.widget-view+json": {
       "model_id": "c62f60e8aedb4083a47dd5636b4e18b3",
       "version_major": 2,
       "version_minor": 0
      },
      "text/plain": [
       "interactive(children=(IntSlider(value=96, continuous_update=False, description='Axial:', max=191), IntSlider(v…"
      ]
     },
     "metadata": {},
     "output_type": "display_data"
    },
    {
     "data": {
      "text/plain": [
       "<function __main__.plot_orthogonal_views(axial_idx, sagittal_idx, coronal_idx)>"
      ]
     },
     "execution_count": 6,
     "metadata": {},
     "output_type": "execute_result"
    }
   ],
   "source": [
    "fixed_img = ret['source_img'].squeeze().numpy()\n",
    "moving_img = ret['target_img'].squeeze().numpy()\n",
    "\n",
    "def plot_orthogonal_views(axial_idx, sagittal_idx, coronal_idx):\n",
    "    fig, axes = plt.subplots(2, 3, figsize=(15, 8))\n",
    "    \n",
    "    # Fixed image views\n",
    "    axes[0,0].imshow(fixed_img[axial_idx,:,:], cmap='gray')\n",
    "    axes[0,0].set_title('Fixed - Axial')\n",
    "    axes[0,0].axis('off')\n",
    "    \n",
    "    axes[0,1].imshow(fixed_img[:,sagittal_idx,:], cmap='gray')\n",
    "    axes[0,1].set_title('Fixed - Sagittal')\n",
    "    axes[0,1].axis('off')\n",
    "    \n",
    "    axes[0,2].imshow(fixed_img[:,:,coronal_idx], cmap='gray')\n",
    "    axes[0,2].set_title('Fixed - Coronal')\n",
    "    axes[0,2].axis('off')\n",
    "    \n",
    "    # Moving image views\n",
    "    axes[1,0].imshow(moving_img[axial_idx,:,:], cmap='gray')\n",
    "    axes[1,0].set_title('Moving - Axial')\n",
    "    axes[1,0].axis('off')\n",
    "    \n",
    "    axes[1,1].imshow(moving_img[:,sagittal_idx,:], cmap='gray')\n",
    "    axes[1,1].set_title('Moving - Sagittal')\n",
    "    axes[1,1].axis('off')\n",
    "    \n",
    "    axes[1,2].imshow(moving_img[:,:,coronal_idx], cmap='gray')\n",
    "    axes[1,2].set_title('Moving - Coronal')\n",
    "    axes[1,2].axis('off')\n",
    "    \n",
    "    plt.tight_layout()\n",
    "    plt.show()\n",
    "\n",
    "# Create interactive sliders\n",
    "interact(\n",
    "    plot_orthogonal_views,\n",
    "    axial_idx=widgets.IntSlider(\n",
    "        min=0,\n",
    "        max=fixed_img.shape[0]-1,\n",
    "        step=1,\n",
    "        value=fixed_img.shape[0]//2,\n",
    "        description='Axial:',\n",
    "        continuous_update=False\n",
    "    ),\n",
    "    sagittal_idx=widgets.IntSlider(\n",
    "        min=0,\n",
    "        max=fixed_img.shape[1]-1,\n",
    "        step=1,\n",
    "        value=fixed_img.shape[1]//2,\n",
    "        description='Sagittal:',\n",
    "        continuous_update=False\n",
    "    ),\n",
    "    coronal_idx=widgets.IntSlider(\n",
    "        min=0,\n",
    "        max=fixed_img.shape[2]-1,\n",
    "        step=1,\n",
    "        value=fixed_img.shape[2]//2,\n",
    "        description='Coronal:',\n",
    "        continuous_update=False\n",
    "    )\n",
    ")"
   ]
  },
  {
   "cell_type": "code",
   "execution_count": null,
   "id": "40a27f6c-f1fe-40f5-b661-a99b232511e6",
   "metadata": {},
   "outputs": [],
   "source": []
  }
 ],
 "metadata": {
  "kernelspec": {
   "display_name": "Python 3 (ipykernel)",
   "language": "python",
   "name": "python3"
  },
  "language_info": {
   "codemirror_mode": {
    "name": "ipython",
    "version": 3
   },
   "file_extension": ".py",
   "mimetype": "text/x-python",
   "name": "python",
   "nbconvert_exporter": "python",
   "pygments_lexer": "ipython3",
   "version": "3.8.18"
  }
 },
 "nbformat": 4,
 "nbformat_minor": 5
}
