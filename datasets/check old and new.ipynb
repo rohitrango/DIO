{
 "cells": [
  {
   "cell_type": "code",
   "execution_count": 1,
   "id": "06c73152-bed7-4075-a718-2b0cdc530e1b",
   "metadata": {},
   "outputs": [],
   "source": [
    "%load_ext autoreload\n",
    "%autoreload 2\n",
    "import numpy as np\n",
    "from abdomen import AbdomenMRCT\n",
    "from lungct import LungCT\n",
    "import os\n",
    "import nibabel as nib\n",
    "\n",
    "import matplotlib.pyplot as plt\n",
    "from ipywidgets import interact, interactive, fixed, interact_manual\n",
    "import ipywidgets as widgets\n",
    "import numpy as np"
   ]
  },
  {
   "cell_type": "code",
   "execution_count": 8,
   "id": "7dedde59-d889-4dc6-969d-e42560a97954",
   "metadata": {},
   "outputs": [],
   "source": [
    "img1 = nib.load(\"/mnt/rohit_data2/LungCT_L2R/case_001_exp.nii.gz\").get_fdata()\n",
    "img1 = (img1 - img1.min())/(img1.max() - img1.min())\n",
    "fixed_img = img1\n",
    "\n",
    "img2 = nib.load(\"/mnt/rohit_data2/LungCT_L2R/imagesTr/LungCT_0001_0000.nii.gz\").get_fdata()[::-1, ::-1]\n",
    "img2 = (img2 - img2.min())/(img2.max() - img2.min())\n",
    "moving_img = img2"
   ]
  },
  {
   "cell_type": "code",
   "execution_count": 9,
   "id": "444774fb-41a5-4395-8bd6-cd02b38afc12",
   "metadata": {},
   "outputs": [
    {
     "data": {
      "application/vnd.jupyter.widget-view+json": {
       "model_id": "8538c69424f945a69dec4610c9f3837c",
       "version_major": 2,
       "version_minor": 0
      },
      "text/plain": [
       "interactive(children=(IntSlider(value=96, continuous_update=False, description='Axial:', max=191), IntSlider(v…"
      ]
     },
     "metadata": {},
     "output_type": "display_data"
    },
    {
     "data": {
      "text/plain": [
       "<function __main__.plot_orthogonal_views(axial_idx, sagittal_idx, coronal_idx)>"
      ]
     },
     "execution_count": 9,
     "metadata": {},
     "output_type": "execute_result"
    }
   ],
   "source": [
    "def plot_orthogonal_views(axial_idx, sagittal_idx, coronal_idx):\n",
    "    fig, axes = plt.subplots(2, 3, figsize=(15, 8))\n",
    "    \n",
    "    # Fixed image views\n",
    "    axes[0,0].imshow(fixed_img[axial_idx,:,:], cmap='gray')\n",
    "    axes[0,0].set_title('Fixed - Axial')\n",
    "    axes[0,0].axis('off')\n",
    "    \n",
    "    axes[0,1].imshow(fixed_img[:,sagittal_idx,:], cmap='gray')\n",
    "    axes[0,1].set_title('Fixed - Sagittal')\n",
    "    axes[0,1].axis('off')\n",
    "    \n",
    "    axes[0,2].imshow(fixed_img[:,:,coronal_idx], cmap='gray')\n",
    "    axes[0,2].set_title('Fixed - Coronal')\n",
    "    axes[0,2].axis('off')\n",
    "    \n",
    "    # Moving image views\n",
    "    axes[1,0].imshow(moving_img[axial_idx,:,:], cmap='gray')\n",
    "    axes[1,0].set_title('Moving - Axial')\n",
    "    axes[1,0].axis('off')\n",
    "    \n",
    "    axes[1,1].imshow(moving_img[:,sagittal_idx,:], cmap='gray')\n",
    "    axes[1,1].set_title('Moving - Sagittal')\n",
    "    axes[1,1].axis('off')\n",
    "    \n",
    "    axes[1,2].imshow(moving_img[:,:,coronal_idx], cmap='gray')\n",
    "    axes[1,2].set_title('Moving - Coronal')\n",
    "    axes[1,2].axis('off')\n",
    "    \n",
    "    plt.tight_layout()\n",
    "    plt.show()\n",
    "\n",
    "# Create interactive sliders\n",
    "interact(\n",
    "    plot_orthogonal_views,\n",
    "    axial_idx=widgets.IntSlider(\n",
    "        min=0,\n",
    "        max=fixed_img.shape[0]-1,\n",
    "        step=1,\n",
    "        value=fixed_img.shape[0]//2,\n",
    "        description='Axial:',\n",
    "        continuous_update=False\n",
    "    ),\n",
    "    sagittal_idx=widgets.IntSlider(\n",
    "        min=0,\n",
    "        max=fixed_img.shape[1]-1,\n",
    "        step=1,\n",
    "        value=fixed_img.shape[1]//2,\n",
    "        description='Sagittal:',\n",
    "        continuous_update=False\n",
    "    ),\n",
    "    coronal_idx=widgets.IntSlider(\n",
    "        min=0,\n",
    "        max=fixed_img.shape[2]-1,\n",
    "        step=1,\n",
    "        value=fixed_img.shape[2]//2,\n",
    "        description='Coronal:',\n",
    "        continuous_update=False\n",
    "    )\n",
    ")"
   ]
  },
  {
   "cell_type": "code",
   "execution_count": 11,
   "id": "ee5b4959-8e48-4b94-b814-d9984ef5b01c",
   "metadata": {},
   "outputs": [
    {
     "data": {
      "text/plain": [
       "0.0"
      ]
     },
     "execution_count": 11,
     "metadata": {},
     "output_type": "execute_result"
    }
   ],
   "source": [
    "np.abs(fixed_img - moving_img).mean()"
   ]
  },
  {
   "cell_type": "code",
   "execution_count": null,
   "id": "77603c24-2365-4feb-91af-569a3693b35b",
   "metadata": {},
   "outputs": [],
   "source": []
  }
 ],
 "metadata": {
  "kernelspec": {
   "display_name": "Python 3 (ipykernel)",
   "language": "python",
   "name": "python3"
  },
  "language_info": {
   "codemirror_mode": {
    "name": "ipython",
    "version": 3
   },
   "file_extension": ".py",
   "mimetype": "text/x-python",
   "name": "python",
   "nbconvert_exporter": "python",
   "pygments_lexer": "ipython3",
   "version": "3.8.18"
  }
 },
 "nbformat": 4,
 "nbformat_minor": 5
}
